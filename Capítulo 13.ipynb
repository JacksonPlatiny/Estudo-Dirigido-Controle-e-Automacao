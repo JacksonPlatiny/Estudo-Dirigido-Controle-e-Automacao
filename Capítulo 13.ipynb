{
  "nbformat": 4,
  "nbformat_minor": 0,
  "metadata": {
    "colab": {
      "provenance": [],
      "authorship_tag": "ABX9TyMPJg4uUHS0LEOm5Wjif00+",
      "include_colab_link": true
    },
    "kernelspec": {
      "name": "python3",
      "display_name": "Python 3"
    },
    "language_info": {
      "name": "python"
    }
  },
  "cells": [
    {
      "cell_type": "markdown",
      "metadata": {
        "id": "view-in-github",
        "colab_type": "text"
      },
      "source": [
        "<a href=\"https://colab.research.google.com/github/JacksonPlatiny/Estudo-Dirigido-Controle-e-Automacao/blob/main/Cap%C3%ADtulo%2013.ipynb\" target=\"_parent\"><img src=\"https://colab.research.google.com/assets/colab-badge.svg\" alt=\"Open In Colab\"/></a>"
      ]
    },
    {
      "cell_type": "markdown",
      "source": [
        "# Estudo dirigido de Controle e Automação I\n",
        "### Livro: Sistemas de Controle Modernos, de Richard C. Dorf & Robert H. Bishop.\n",
        "### Alunos: Jackson Platiny Soares Leite & Gabriel Lopes Rodrigues e Silva\n"
      ],
      "metadata": {
        "id": "1cTz15-8f_Dz"
      }
    },
    {
      "cell_type": "markdown",
      "source": [
        "# Capítulo 13 - Sistemas de Controle Digital:"
      ],
      "metadata": {
        "id": "Kkhh5XXkgRIA"
      }
    },
    {
      "cell_type": "markdown",
      "source": [
        "O capítulo 13 começa abordando a transição dos sistemas de controle contínuos para sistemas de controle digitais, explicando como computadores e microprocessadores passaram a ser usados para controlar processos industriais, sistemas automotivos, aeronaves e diversos outros dispositivos eletrônicos. Diferente dos sistemas analógicos, que operam com sinais contínuos, os sistemas digitais trabalham com sinais discretizados, coletando amostras em intervalos regulares de tempo e processando-as numericamente. Essa mudança permitiu um maior controle sobre os sistemas, com mais flexibilidade e capacidade de ajuste, além de reduzir os efeitos do ruído e da degradação dos componentes analógicos. O capítulo destaca como a principal ferramenta matemática para lidar com esses sistemas é a transformada Z, que desempenha um papel similar ao da transformada de Laplace nos sistemas contínuos. A transformada Z permite analisar a estabilidade, o desempenho e a resposta de sistemas digitais, sendo essencial para projetar controladores discretos.\n",
        "\n",
        "Um dos conceitos fundamentais apresentados no capítulo é o sistema de dados amostrados, que consiste em um processo onde um sinal analógico é convertido para o domínio digital, processado e depois reconvertido para o domínio contínuo. Para isso, são utilizados conversores A/D (analógico para digital), que realizam a amostragem e quantização dos sinais, e conversores D/A (digital para analógico), que reconvertem os sinais processados para uma forma contínua. O tempo entre cada amostra é chamado de período de amostragem (T), e sua escolha é crítica para o desempenho do sistema. Se T for muito grande, a amostragem pode perder informações importantes do sinal, levando a erros de quantização e aliasing. Por outro lado, se T for muito pequeno, pode resultar em um aumento desnecessário da complexidade computacional do sistema. O critério de Nyquist é apresentado como referência para evitar aliasing, determinando que a taxa de amostragem deve ser pelo menos duas vezes a maior frequência presente no sinal.\n",
        "\n",
        "A transformada Z é então introduzida como uma ferramenta matemática essencial para a análise e projeto de sistemas discretos. A relação entre o domínio S e o domínio Z é dada por z = e^(sT), permitindo que um sistema representado por uma função de transferência em Laplace seja convertido para uma forma discreta e analisado no domínio Z. O capítulo apresenta algumas das principais propriedades da transformada Z, como a linearidade, deslocamento no tempo, diferenciação e integração discretas. Além disso, é introduzida a transformada Z inversa, que permite retornar ao domínio do tempo e interpretar a resposta do sistema de maneira mais intuitiva.\n",
        "\n",
        "Os sistemas de controle por realimentação também são explorados no contexto digital. Em um sistema de controle digital de malha fechada, a saída é amostrada periodicamente e usada para corrigir o erro do sistema. A função de transferência do sistema realimentado em domínio Z é dada por: T(z) = G(z) / (1 + G(z)). Assim como nos sistemas contínuos, a estabilidade de um sistema digital depende da localização de seus polos. No domínio Z, um sistema é estável se todos os polos estiverem dentro do círculo unitário no plano Z, ou seja, se seus módulos forem menores que 1. Isso significa que, diferentemente dos sistemas contínuos, onde a estabilidade é determinada pela parte real dos polos no domínio S, nos sistemas discretos é necessário garantir que os polos não ultrapassem o raio do círculo unitário.\n",
        "\n",
        "A seguir, o capítulo discute o desempenho de sistemas discretos de segunda ordem, analisando características como overshoot, tempo de estabilização e erro em regime permanente. Assim como nos sistemas contínuos, a localização dos polos influencia diretamente a resposta transitória do sistema, afetando a rapidez e a estabilidade da resposta. O autor demonstra como a escolha adequada do período de amostragem e dos ganhos do controlador pode otimizar essas características, garantindo que o sistema atenda às especificações desejadas.\n",
        "\n",
        "O capítulo também apresenta o projeto de controladores digitais, destacando como compensadores podem ser projetados no domínio Z para melhorar a resposta do sistema. A equação geral de um controlador digital é: D(z) = U(z) / E(z),\n",
        "onde U(z) é a saída do controlador e E(z) é o erro do sistema. O autor explica que os compensadores digitais podem ser projetados usando métodos como Tustin (transformação bilinear), Zero-Order Hold (ZOH) e mapa de polos e zeros. Além disso, é apresentado o controlador PID digital, uma versão discretizada do controlador PID contínuo, amplamente usado em sistemas industriais.\n",
        "\n",
        "O método do lugar das raízes é explorado para sistemas discretos, mostrando como a variação do ganho do controlador pode afetar a estabilidade do sistema digital. O critério para estabilidade é reforçado: os polos devem permanecer dentro do círculo unitário para que o sistema seja estável. Se os polos estiverem próximos do limite do círculo, o sistema pode apresentar oscilações excessivas. Caso os polos saiam do círculo, o sistema se torna instável.\n",
        "\n",
        "Nos exemplos práticos apresentados, o capítulo demonstra a aplicação de controladores digitais em sistemas reais. Um dos casos estudados é o controle de movimento de uma mesa de trabalho, onde um motor e um parafuso sem-fim são usados para posicionar a mesa com precisão. A análise no domínio Z permite projetar um compensador digital para reduzir erros e melhorar a resposta transitória. Outro exemplo importante é o sistema fly-by-wire em aeronaves, onde o controle digital substitui os sistemas mecânicos tradicionais, garantindo uma resposta mais rápida e precisa às ações do piloto. O autor mostra como um compensador digital pode ser projetado para minimizar oscilações e aumentar a estabilidade da aeronave.\n",
        "\n",
        "Na parte final, o capítulo discute a implementação de controladores digitais em hardware real, abordando o uso de microcontroladores, DSPs (Processadores Digitais de Sinal) e FPGAs (Matrizes de Portas Programáveis em Campo). São apresentados os desafios práticos, como a precisão numérica, tempo de processamento e limitações da discretização. Também é reforçada a importância das ferramentas de software, como MATLAB, Simulink e Python, para modelagem e simulação de sistemas digitais antes da implementação real, como de costume.\n",
        "\n",
        "O capítulo termina com um exemplo de projeto sequencial, onde um controlador digital é desenvolvido para regular a posição do cabeçote de leitura de um disco rígido. O processo envolve modelagem matemática, conversão para o domínio Z, ajuste dos ganhos e simulação da resposta do sistema antes da implementação final.\n",
        "\n",
        "Em resumo, o capítulo 13 mostra a importância dos sistemas de controle digitais e como eles diferem dos sistemas analógicos. Ele apresenta as ferramentas matemáticas necessárias para análise e projeto, discute a estabilidade dos sistemas discretos, explora o uso de compensadores digitais e fornece exemplos práticos de aplicação. O uso de computadores no controle de sistemas trouxe avanços significativos em precisão, flexibilidade e robustez, tornando os métodos digitais fundamentais para aplicações modernas. Segue abaixo os exemplos propostos do capítulo e uma breve discussão e análise dos mesmos."
      ],
      "metadata": {
        "id": "DyqZcGexgcnm"
      }
    },
    {
      "cell_type": "markdown",
      "source": [
        "## Exemplo 13.1: Transform of an exponential"
      ],
      "metadata": {
        "id": "Xyr7sYiBgsiL"
      }
    },
    {
      "cell_type": "code",
      "source": [
        "!pip install control\n"
      ],
      "metadata": {
        "colab": {
          "base_uri": "https://localhost:8080/"
        },
        "id": "gxI027naQOMZ",
        "outputId": "b1cad65e-8195-453c-df88-4c595aa714b3"
      },
      "execution_count": null,
      "outputs": [
        {
          "output_type": "stream",
          "name": "stdout",
          "text": [
            "Collecting control\n",
            "  Downloading control-0.10.1-py3-none-any.whl.metadata (7.6 kB)\n",
            "Requirement already satisfied: numpy>=1.23 in /usr/local/lib/python3.11/dist-packages (from control) (1.26.4)\n",
            "Requirement already satisfied: scipy>=1.8 in /usr/local/lib/python3.11/dist-packages (from control) (1.13.1)\n",
            "Requirement already satisfied: matplotlib>=3.6 in /usr/local/lib/python3.11/dist-packages (from control) (3.10.0)\n",
            "Requirement already satisfied: contourpy>=1.0.1 in /usr/local/lib/python3.11/dist-packages (from matplotlib>=3.6->control) (1.3.1)\n",
            "Requirement already satisfied: cycler>=0.10 in /usr/local/lib/python3.11/dist-packages (from matplotlib>=3.6->control) (0.12.1)\n",
            "Requirement already satisfied: fonttools>=4.22.0 in /usr/local/lib/python3.11/dist-packages (from matplotlib>=3.6->control) (4.56.0)\n",
            "Requirement already satisfied: kiwisolver>=1.3.1 in /usr/local/lib/python3.11/dist-packages (from matplotlib>=3.6->control) (1.4.8)\n",
            "Requirement already satisfied: packaging>=20.0 in /usr/local/lib/python3.11/dist-packages (from matplotlib>=3.6->control) (24.2)\n",
            "Requirement already satisfied: pillow>=8 in /usr/local/lib/python3.11/dist-packages (from matplotlib>=3.6->control) (11.1.0)\n",
            "Requirement already satisfied: pyparsing>=2.3.1 in /usr/local/lib/python3.11/dist-packages (from matplotlib>=3.6->control) (3.2.1)\n",
            "Requirement already satisfied: python-dateutil>=2.7 in /usr/local/lib/python3.11/dist-packages (from matplotlib>=3.6->control) (2.8.2)\n",
            "Requirement already satisfied: six>=1.5 in /usr/local/lib/python3.11/dist-packages (from python-dateutil>=2.7->matplotlib>=3.6->control) (1.17.0)\n",
            "Downloading control-0.10.1-py3-none-any.whl (549 kB)\n",
            "\u001b[?25l   \u001b[90m━━━━━━━━━━━━━━━━━━━━━━━━━━━━━━━━━━━━━━━━\u001b[0m \u001b[32m0.0/549.6 kB\u001b[0m \u001b[31m?\u001b[0m eta \u001b[36m-:--:--\u001b[0m\r\u001b[2K   \u001b[91m━━━━━━━━━━━━━━━━━━━━━━━━━━━━━━━━━━━━━━━\u001b[0m\u001b[90m╺\u001b[0m \u001b[32m542.7/549.6 kB\u001b[0m \u001b[31m26.1 MB/s\u001b[0m eta \u001b[36m0:00:01\u001b[0m\r\u001b[2K   \u001b[90m━━━━━━━━━━━━━━━━━━━━━━━━━━━━━━━━━━━━━━━━\u001b[0m \u001b[32m549.6/549.6 kB\u001b[0m \u001b[31m13.8 MB/s\u001b[0m eta \u001b[36m0:00:00\u001b[0m\n",
            "\u001b[?25hInstalling collected packages: control\n",
            "Successfully installed control-0.10.1\n"
          ]
        }
      ]
    },
    {
      "cell_type": "code",
      "execution_count": null,
      "metadata": {
        "id": "mnZlq6Bzf6ev",
        "colab": {
          "base_uri": "https://localhost:8080/"
        },
        "outputId": "d44a0a6c-b257-4510-8481-d9cddea2e168"
      },
      "outputs": [
        {
          "output_type": "stream",
          "name": "stdout",
          "text": [
            "Transformada Z de e^(-at): <TransferFunction>: sys[2]\n",
            "Inputs (1): ['u[0]']\n",
            "Outputs (1): ['y[0]']\n",
            "\n",
            "\n",
            "    z\n",
            "----------\n",
            "z - 0.6065\n",
            "\n"
          ]
        }
      ],
      "source": [
        "import numpy as np\n",
        "import matplotlib.pyplot as plt\n",
        "import control as ctl\n",
        "\n",
        "# Exemplo 13.1 - Transformada Z de uma exponencial\n",
        "a = 0.5  # Parâmetro exponencial\n",
        "T = 1  # Período de amostragem\n",
        "\n",
        "z = ctl.tf('z')\n",
        "F_z = z / (z - np.exp(-a * T))\n",
        "print(\"Transformada Z de e^(-at):\", F_z)"
      ]
    },
    {
      "cell_type": "markdown",
      "source": [
        "Este exemplo mostra como obter a transformada Z de uma função exponencial decrescente 𝑒^(−𝑎𝑡). Observamos que:\n",
        "\n",
        "*   A transformação é útil para converter sinais contínuos em representações discretas.\n",
        "*   A função de transferência no domínio Z fica: 𝐹(𝑧) = 𝑧 / (𝑧 − 𝑒^(−𝑎𝑇)), onde 𝑇 é o período de amostragem.\n",
        "*   Esse tipo de análise é fundamental para converter sistemas contínuos para sistemas discretos.\n",
        "\n",
        "Disso, podemos tirar que a transformada Z facilita a análise de sistemas discretos e a implementação digital de funções analógicas."
      ],
      "metadata": {
        "id": "CBeqmiw1TuIH"
      }
    },
    {
      "cell_type": "markdown",
      "source": [
        "## Exemplo 13.2: Transform of a sinusoid"
      ],
      "metadata": {
        "id": "v7rM-NiThEgo"
      }
    },
    {
      "cell_type": "code",
      "source": [
        "# Exemplo 13.2 - Transformada Z de um Seno\n",
        "w = 1  # Frequência da senoide\n",
        "F_sin = z * np.sin(w * T) / (z**2 - 2 * np.cos(w * T) * z + 1)\n",
        "print(\"Transformada Z de sin(wt):\", F_sin)"
      ],
      "metadata": {
        "id": "wQInt1AnhECU",
        "colab": {
          "base_uri": "https://localhost:8080/"
        },
        "outputId": "2fdeef2a-979f-49f7-aa02-e1e62f34849e"
      },
      "execution_count": null,
      "outputs": [
        {
          "output_type": "stream",
          "name": "stdout",
          "text": [
            "Transformada Z de sin(wt): <TransferFunction>: sys[17]\n",
            "Inputs (1): ['u[0]']\n",
            "Outputs (1): ['y[0]']\n",
            "\n",
            "\n",
            "    0.8415 z\n",
            "-----------------\n",
            "z^2 - 1.081 z + 1\n",
            "\n"
          ]
        }
      ]
    },
    {
      "cell_type": "markdown",
      "source": [
        "Este exemplo aplica a transformada Z a um sinal senoidal sin(𝑤𝑡). Podemos destacar que:\n",
        "*   A função Z do seno é dada por: 𝐹(𝑧) = 𝑧sin⁡(𝑤𝑇) / (𝑧² − 2cos(𝑤𝑇)𝑧 + 1)\n",
        "*   A transformação permite trabalhar com sinais periódicos em sistemas de controle digital.\n",
        "\n",
        "Tendo em vista tudo isso, podemos afirmar que a representação no domínio Z ajuda a entender o comportamento de sinais senoidais em sistemas digitais."
      ],
      "metadata": {
        "id": "amIX7IbLYkDL"
      }
    },
    {
      "cell_type": "markdown",
      "source": [
        "## Exemplo 13.3: Transfer function of an open-loop system"
      ],
      "metadata": {
        "id": "s-XF5TmzhGj-"
      }
    },
    {
      "cell_type": "code",
      "source": [
        "# Exemplo 13.3 - Função de Transferência de Malha Aberta\n",
        "G_s = ctl.tf([1], [1, 1, 0])\n",
        "G_z = ctl.c2d(G_s, T, method='zoh')\n",
        "print(\"Função de transferência discreta:\", G_z)"
      ],
      "metadata": {
        "id": "amCmfmAehG1X",
        "colab": {
          "base_uri": "https://localhost:8080/"
        },
        "outputId": "7def1b50-efd5-41df-87a5-cee952ba82be"
      },
      "execution_count": null,
      "outputs": [
        {
          "output_type": "stream",
          "name": "stdout",
          "text": [
            "Função de transferência discreta: <TransferFunction>: sys[18]$sampled\n",
            "Inputs (1): ['u[0]']\n",
            "Outputs (1): ['y[0]']\n",
            "\n",
            "\n",
            "  0.3679 z + 0.2642\n",
            "----------------------\n",
            "z^2 - 1.368 z + 0.3679\n",
            "\n",
            "dt = 1\n",
            "\n"
          ]
        }
      ]
    },
    {
      "cell_type": "markdown",
      "source": [
        "Já neste exemplo, vemos que um sistema contínuo é convertido para sua versão discreta usando a transformada Z, e é possível observarmos que:\n",
        "\n",
        "*   A conversão de uma função de transferência 𝐺(𝑠) para 𝐺(𝑧) é feita por amostragem com Zero-Order Hold (ZOH).\n",
        "*   Isso permite a implementação de controladores digitais para sistemas originalmente analógicos.\n",
        "\n",
        "Ou seja, podemos perceber que a conversão de sistemas contínuos para discretos é essencial para projetos de controle digital."
      ],
      "metadata": {
        "id": "0E5s-wyiaqU8"
      }
    },
    {
      "cell_type": "markdown",
      "source": [
        "## Exemplo 13.4: Response of a closed-loop system"
      ],
      "metadata": {
        "id": "ISkG1HHaQxUr"
      }
    },
    {
      "cell_type": "code",
      "source": [
        "# Exemplo 13.4 - Resposta ao Degrau de um Sistema em Malha Fechada\n",
        "G_closed = ctl.feedback(G_z)\n",
        "t, y = ctl.step_response(G_closed)\n",
        "plt.figure()\n",
        "plt.plot(t, y, label='Resposta ao Degrau')\n",
        "plt.xlabel('Tempo (s)')\n",
        "plt.ylabel('Saída')\n",
        "plt.title('Exemplo 13.4 - Resposta ao Degrau')\n",
        "plt.legend()\n",
        "plt.grid()\n",
        "plt.show()"
      ],
      "metadata": {
        "colab": {
          "base_uri": "https://localhost:8080/",
          "height": 472
        },
        "id": "pv1vyLSRQ16T",
        "outputId": "56a0c048-3b01-464b-e7c6-8411a6873291"
      },
      "execution_count": null,
      "outputs": [
        {
          "output_type": "display_data",
          "data": {
            "text/plain": [
              "<Figure size 640x480 with 1 Axes>"
            ],
            "image/png": "[encoded data removed]"
          },
          "metadata": {}
        }
      ]
    },
    {
      "cell_type": "markdown",
      "source": [
        "Aqui, a resposta ao degrau de um sistema realimentado é analisada no domínio Z, e com isso vemos que:\n",
        "\n",
        "*   O objetivo é verificar a estabilidade e o desempenho do sistema discreto.\n",
        "*   A resposta ao degrau mostra o tempo de estabilização e a existência de overshoot.\n",
        "\n",
        "Analisando tudo isso, podemos concluir que nesse cenário a análise da resposta ao degrau no domínio Z ajuda a avaliar o comportamento do sistema antes da implementação real."
      ],
      "metadata": {
        "id": "pKm3C47Kch0Y"
      }
    },
    {
      "cell_type": "markdown",
      "source": [
        "## Exemplo 13.5: Stability of a closed-loop system"
      ],
      "metadata": {
        "id": "dgURM4ZeQ2d7"
      }
    },
    {
      "cell_type": "code",
      "source": [
        "# Exemplo 13.5 - Erro de Estado Estacionário\n",
        "R_z = z / (z - 1)\n",
        "E_z = R_z - G_closed * R_z\n",
        "print(\"Erro em regime permanente:\", E_z)"
      ],
      "metadata": {
        "colab": {
          "base_uri": "https://localhost:8080/"
        },
        "id": "R43_8lgUQ3F8",
        "outputId": "50155ce7-90ec-4fb6-fe9b-96bbf3c205d0"
      },
      "execution_count": null,
      "outputs": [
        {
          "output_type": "stream",
          "name": "stdout",
          "text": [
            "Erro em regime permanente: <TransferFunction>: sys[29]\n",
            "Inputs (1): ['u[0]']\n",
            "Outputs (1): ['y[0]']\n",
            "\n",
            "\n",
            "  z^4 - 2.368 z^3 + 1.736 z^2 - 0.3679 z\n",
            "------------------------------------------\n",
            "z^4 - 3 z^3 + 3.632 z^2 - 2.264 z + 0.6321\n",
            "\n",
            "dt = 1\n",
            "\n"
          ]
        }
      ]
    },
    {
      "cell_type": "markdown",
      "source": [
        "Este exemplo calcula o erro em regime permanente para uma entrada degrau. Onde temos que:\n",
        "\n",
        "*   O erro é obtido por: 𝐸(𝑧) = 𝑅(𝑧) − 𝐺(𝑧)𝑅(𝑧)\n",
        "*   Sistemas com integradores reduzem ou eliminam o erro estacionário.\n",
        "\n",
        "Por fim, percebemos então que o erro estacionário pode ser reduzido com controladores apropriados, como PID digitais."
      ],
      "metadata": {
        "id": "4aqTqK7MfSir"
      }
    },
    {
      "cell_type": "markdown",
      "source": [
        "## Exemplo 13.6: Design of a sampled system"
      ],
      "metadata": {
        "id": "vzaJpONV5ARe"
      }
    },
    {
      "cell_type": "code",
      "source": [
        "# Exemplo 13.6 - Projeto de um Sistema Amostrado\n",
        "K = 14  # Ganho\n",
        "T = 0.025  # Novo período de amostragem\n",
        "G_s_new = ctl.tf([K], [0.1, 1])\n",
        "G_z_new = ctl.c2d(G_s_new, T, method='zoh')\n",
        "print(\"Nova função de transferência discreta:\", G_z_new)"
      ],
      "metadata": {
        "colab": {
          "base_uri": "https://localhost:8080/"
        },
        "id": "GES97fWj5BjT",
        "outputId": "bb5a2daf-82d6-4612-9af3-61fb68493373"
      },
      "execution_count": null,
      "outputs": [
        {
          "output_type": "stream",
          "name": "stdout",
          "text": [
            "Nova função de transferência discreta: <TransferFunction>: sys[30]$sampled\n",
            "Inputs (1): ['u[0]']\n",
            "Outputs (1): ['y[0]']\n",
            "\n",
            "\n",
            "  3.097\n",
            "----------\n",
            "z - 0.7788\n",
            "\n",
            "dt = 0.025\n",
            "\n"
          ]
        }
      ]
    },
    {
      "cell_type": "markdown",
      "source": [
        "Aqui, um novo período de amostragem é escolhido para otimizar o desempenho do sistema, e com isso podemos apontar que:\n",
        "\n",
        "*   Uma taxa de amostragem muito baixa pode resultar em erros na discretização.\n",
        "*   Ajustar o período de amostragem melhora a precisão da resposta do sistema.\n",
        "\n",
        "Concluímos que escolher um bom período de amostragem é crucial para garantir que um sistema digitalizado funcione corretamente."
      ],
      "metadata": {
        "id": "nrTXf6mg5CTo"
      }
    },
    {
      "cell_type": "markdown",
      "source": [
        "## Exemplo 13.7: Design to meet a phase margin specification"
      ],
      "metadata": {
        "id": "AklV_zA_5DpQ"
      }
    },
    {
      "cell_type": "code",
      "source": [
        "# Exemplo 13.7 - Projeto para Especificação de Margem de Fase\n",
        "Gp_s = ctl.tf([1740], [1, 0.25, 1])\n",
        "Gc_s = ctl.tf([5, 502], [1, 275])\n",
        "D_z = ctl.c2d(Gc_s, 0.003, method='tustin')\n",
        "print(\"Compensador Digital D(z):\", D_z)\n"
      ],
      "metadata": {
        "colab": {
          "base_uri": "https://localhost:8080/"
        },
        "id": "2HDaGQQt5ERw",
        "outputId": "48d7c4b9-ae29-4f7d-e8f5-966d9eb1878b"
      },
      "execution_count": null,
      "outputs": [
        {
          "output_type": "stream",
          "name": "stdout",
          "text": [
            "Compensador Digital D(z): <TransferFunction>: sys[33]$sampled\n",
            "Inputs (1): ['u[0]']\n",
            "Outputs (1): ['y[0]']\n",
            "\n",
            "\n",
            "4.073 z - 3.007\n",
            "---------------\n",
            "  z - 0.4159\n",
            "\n",
            "dt = 0.003\n",
            "\n"
          ]
        }
      ]
    },
    {
      "cell_type": "markdown",
      "source": [
        "Este exemplo demonstra como projetar um compensador digital para melhorar a margem de fase, e disso temos que:\n",
        "\n",
        "*   O compensador é obtido convertendo um sistema contínuo para discreto usando Tustin's Approximation.\n",
        "*   A compensação digital melhora a estabilidade e reduz oscilações indesejadas.\n",
        "\n",
        "Ou seja, podemos concluir que o projeto de compensadores digitais é essencial para garantir a estabilidade de sistemas discretos.\n",
        "\n",
        "\n"
      ],
      "metadata": {
        "id": "5z76BkOI5E4B"
      }
    },
    {
      "cell_type": "markdown",
      "source": [
        "## Exemplo 13.8: Root locus of a second-order system"
      ],
      "metadata": {
        "id": "PTMOvh6l5FVo"
      }
    },
    {
      "cell_type": "code",
      "source": [
        "# Exemplo 13.8 - Lugar das Raízes de um Sistema Digital\n",
        "G_sampled = ctl.tf([1, 1], [1, -1, 2])\n",
        "ctl.rlocus(G_sampled)\n",
        "plt.title(\"Exemplo 13.8 - Lugar das Raízes\")\n",
        "plt.grid()\n",
        "plt.show()"
      ],
      "metadata": {
        "colab": {
          "base_uri": "https://localhost:8080/",
          "height": 909
        },
        "id": "1ne7s7qm5F75",
        "outputId": "08340d05-77c8-4219-f9d8-ea8afe64ff5f"
      },
      "execution_count": null,
      "outputs": [
        {
          "output_type": "stream",
          "name": "stderr",
          "text": [
            "WARNING:matplotlib.axes._base:Ignoring fixed x limits to fulfill fixed data aspect with adjustable data limits.\n"
          ]
        },
        {
          "output_type": "display_data",
          "data": {
            "text/plain": [
              "<Figure size 640x480 with 1 Axes>"
            ],
            "image/png": "[encoded data removed]"
          },
          "metadata": {}
        }
      ]
    },
    {
      "cell_type": "markdown",
      "source": [
        "Este exemplo usa o lugar das raízes para analisar a estabilidade do sistema no domínio Z. É possível aferir que:\n",
        "\n",
        "\n",
        "*   Os polos devem estar dentro do círculo unitário para garantir estabilidade.\n",
        "*   Se os polos estiverem fora, ajustes no ganho do controlador podem ser necessários.\n",
        "\n",
        "Por fim, entendemos que o método do lugar das raízes no domínio Z é uma ferramenta fundamental para projetar controladores digitais estáveis."
      ],
      "metadata": {
        "id": "LpQe6MwG5Gfl"
      }
    },
    {
      "cell_type": "markdown",
      "source": [
        "## Exemplo 13.9: Design of a digital compensator"
      ],
      "metadata": {
        "id": "4PQfLMWm5Htt"
      }
    },
    {
      "cell_type": "code",
      "source": [
        "# Exemplo 13.9 - Projeto de um Compensador Digital\n",
        "D_z = ctl.tf([1, -1], [1, 0.2])\n",
        "print(\"Compensador Digital D(z):\", D_z)"
      ],
      "metadata": {
        "colab": {
          "base_uri": "https://localhost:8080/"
        },
        "id": "BZ7EnpQV5ILt",
        "outputId": "e7367e71-83fe-481f-c946-2ce1da9f60d6"
      },
      "execution_count": null,
      "outputs": [
        {
          "output_type": "stream",
          "name": "stdout",
          "text": [
            "Compensador Digital D(z): <TransferFunction>: sys[36]\n",
            "Inputs (1): ['u[0]']\n",
            "Outputs (1): ['y[0]']\n",
            "\n",
            "\n",
            " s - 1\n",
            "-------\n",
            "s + 0.2\n",
            "\n"
          ]
        }
      ]
    },
    {
      "cell_type": "markdown",
      "source": [
        "Aqui, um compensador digital é projetado para melhorar a resposta de um sistema discreto. Nisso observamos que:\n",
        "\n",
        "\n",
        "*   O compensador pode ser um filtro digital que ajusta a resposta de frequência do sistema.\n",
        "*   A escolha dos coeficientes do compensador impacta diretamente o desempenho do sistema.\n",
        "\n",
        "Tiramos dessa questão o conhecimento de que os compensadores digitais permitem ajustar dinamicamente a resposta do sistema para atender requisitos específicos."
      ],
      "metadata": {
        "id": "wbJDDLCO5Iqf"
      }
    },
    {
      "cell_type": "markdown",
      "source": [
        "## Exemplo 13.10: Worktable motion control system"
      ],
      "metadata": {
        "id": "P1XNkEXM5JLW"
      }
    },
    {
      "cell_type": "code",
      "source": [
        "# Exemplo 13.10 - Controle de Movimento de uma Mesa\n",
        "G_motor = ctl.tf([1], [1, 10, 20])\n",
        "G_motor_z = ctl.c2d(G_motor, 0.12, method='zoh')\n",
        "print(\"Função de transferência discreta do motor:\", G_motor_z)"
      ],
      "metadata": {
        "colab": {
          "base_uri": "https://localhost:8080/"
        },
        "id": "r_3A90RQ5JvP",
        "outputId": "8d49624a-38a2-4af7-b349-3f9a0617e6ba"
      },
      "execution_count": null,
      "outputs": [
        {
          "output_type": "stream",
          "name": "stdout",
          "text": [
            "Função de transferência discreta do motor: <TransferFunction>: sys[37]$sampled\n",
            "Inputs (1): ['u[0]']\n",
            "Outputs (1): ['y[0]']\n",
            "\n",
            "\n",
            "0.004903 z + 0.003288\n",
            "----------------------\n",
            "z^2 - 1.137 z + 0.3012\n",
            "\n",
            "dt = 0.12\n",
            "\n"
          ]
        }
      ]
    },
    {
      "cell_type": "markdown",
      "source": [
        "Este exemplo simula o controle do movimento de uma mesa de trabalho automatizada. Podemos absorver dessa questão que:\n",
        "\n",
        "\n",
        "*   Um motor e um parafuso sem-fim são modelados no domínio Z.\n",
        "*   A compensação digital é usada para melhorar a precisão do posicionamento da mesa.\n",
        "\n",
        "Como conclusão, temos o saber de que os sistemas digitais são amplamente usados para controle preciso de posicionamento em automação industrial."
      ],
      "metadata": {
        "id": "P_UcwgjT5KbJ"
      }
    },
    {
      "cell_type": "markdown",
      "source": [
        "## Exemplo 13.11: Fly-by-wire aircraft control surface"
      ],
      "metadata": {
        "id": "ZgAtLl075Yog"
      }
    },
    {
      "cell_type": "code",
      "source": [
        "# Exemplo 13.11 - Controle de Superfície de Aeronaves\n",
        "Gp_fly = ctl.tf([1], [1, 12])\n",
        "Go_fly = ctl.tf([1 - np.exp(-T)], [T, 1])\n",
        "G_fly_z = ctl.c2d(Go_fly * Gp_fly, T, method='zoh')\n",
        "print(\"Função de transferência do sistema Fly-by-Wire:\", G_fly_z)"
      ],
      "metadata": {
        "colab": {
          "base_uri": "https://localhost:8080/"
        },
        "id": "eu6iRIl65ZCM",
        "outputId": "3ce4c226-575d-49e0-cc0e-27c094140b95"
      },
      "execution_count": null,
      "outputs": [
        {
          "output_type": "stream",
          "name": "stdout",
          "text": [
            "Função de transferência do sistema Fly-by-Wire: <TransferFunction>: sys[41]$sampled\n",
            "Inputs (1): ['u[0]']\n",
            "Outputs (1): ['y[0]']\n",
            "\n",
            "\n",
            "0.0002044 z + 0.0001327\n",
            "-----------------------\n",
            "z^2 - 1.109 z + 0.2725\n",
            "\n",
            "dt = 0.025\n",
            "\n"
          ]
        }
      ]
    },
    {
      "cell_type": "markdown",
      "source": [
        "Nessa questão um sistema digital de controle de aeronaves é analisado. Dessa análise podemos perceber que:\n",
        "\n",
        "\n",
        "*   Os sistemas fly-by-wire substituem sistemas mecânicos por controle eletrônico digital.\n",
        "*   Um controlador digital é projetado para reduzir oscilações e melhorar a estabilidade da aeronave.\n",
        "\n",
        "Por meio dessa questão conseguimos entender que sistemas de controle digital são essenciais para a estabilidade e segurança de aeronaves modernas."
      ],
      "metadata": {
        "id": "xUKBsbA75Zda"
      }
    },
    {
      "cell_type": "markdown",
      "source": [
        "## Exemplo 13.12: Unit step response"
      ],
      "metadata": {
        "id": "9Ys8Jbjj5ZyA"
      }
    },
    {
      "cell_type": "code",
      "source": [
        "# Exemplo 13.12 - Resposta ao Degrau\n",
        "G_closed_step = ctl.feedback(G_fly_z)\n",
        "t_step, y_step = ctl.step_response(G_closed_step)\n",
        "plt.figure()\n",
        "plt.plot(t_step, y_step, label='Resposta ao Degrau')\n",
        "plt.xlabel('Tempo (s)')\n",
        "plt.ylabel('Saída')\n",
        "plt.title('Exemplo 13.12 - Resposta ao Degrau')\n",
        "plt.legend()\n",
        "plt.grid()\n",
        "plt.show()"
      ],
      "metadata": {
        "colab": {
          "base_uri": "https://localhost:8080/",
          "height": 472
        },
        "id": "518Vph8i5aSa",
        "outputId": "a949c872-9dcf-4e5b-803c-0f63a2beded0"
      },
      "execution_count": null,
      "outputs": [
        {
          "output_type": "display_data",
          "data": {
            "text/plain": [
              "<Figure size 640x480 with 1 Axes>"
            ],
            "image/png": "[encoded data removed]"
          },
          "metadata": {}
        }
      ]
    },
    {
      "cell_type": "markdown",
      "source": [
        "Neste exemplo a resposta ao degrau de um sistema digital é analisada para avaliar seu comportamento. Dito isso, é possível notar que:\n",
        "\n",
        "*   A simulação permite verificar tempo de estabilização, overshoot e precisão.\n",
        "*   O desempenho pode ser otimizado ajustando os parâmetros do controlador digital.\n",
        "\n",
        "Portanto, podemos concluir que a resposta ao degrau no domínio Z é uma ferramenta importante para validar o comportamento de sistemas discretos."
      ],
      "metadata": {
        "id": "8hwGPmbZ5amM"
      }
    },
    {
      "cell_type": "markdown",
      "source": [
        "## Exemplo 13.13: Root locus of a digital control system"
      ],
      "metadata": {
        "id": "KGAHjQrn5hVV"
      }
    },
    {
      "cell_type": "code",
      "source": [
        "# Exemplo 13.13 - Lugar das Raízes de um Sistema Digital com Compensador\n",
        "G_comp = ctl.tf([0.3678, 0.7189], [1, -1, -0.368])\n",
        "D_comp = ctl.tf([1, -0.3678], [1, 0.24])\n",
        "G_compensated = G_comp * D_comp\n",
        "ctl.rlocus(G_compensated)\n",
        "plt.title(\"Exemplo 13.13 - Lugar das Raízes\")\n",
        "plt.grid()\n",
        "plt.show()"
      ],
      "metadata": {
        "colab": {
          "base_uri": "https://localhost:8080/",
          "height": 925
        },
        "id": "NdnMueI15hts",
        "outputId": "0b982908-eee5-4ba3-e57a-fdd6fbe62f15"
      },
      "execution_count": null,
      "outputs": [
        {
          "output_type": "stream",
          "name": "stderr",
          "text": [
            "WARNING:matplotlib.axes._base:Ignoring fixed x limits to fulfill fixed data aspect with adjustable data limits.\n"
          ]
        },
        {
          "output_type": "display_data",
          "data": {
            "text/plain": [
              "<Figure size 640x480 with 1 Axes>"
            ],
            "image/png": "[encoded data removed]"
          },
          "metadata": {}
        }
      ]
    },
    {
      "cell_type": "markdown",
      "source": [
        "Este exemplo estuda como a inserção de um compensador afeta o lugar das raízes de um sistema discreto. Podemos observar que:\n",
        "\n",
        "*   O compensador desloca os polos para dentro do círculo unitário, garantindo estabilidade.\n",
        "*   O ajuste fino do compensador permite obter uma resposta desejada.\n",
        "\n",
        "Com isso, podemos observar que o projeto de compensadores digitais pode melhorar drasticamente a estabilidade e o desempenho de sistemas discretos.\n",
        "\n",
        "De forma geral, os exemplos do capítulo 13 mostram a importância dos sistemas de controle digitais e suas ferramentas de análise. Os principais aprendizados incluem a Transformada Z como ferramenta essencial para análise de sistemas discretos, a conversão de sistemas contínuos para discretos usando métodos como ZOH e Tustin, o projeto de compensadores digitais para melhorar desempenho e estabilidade, a análise da resposta ao degrau e lugar das raízes para avaliar o comportamento do sistema digital e as aplicações práticas, como controle de aeronaves, motores e sistemas mecânicos."
      ],
      "metadata": {
        "id": "L05ParvA5iDY"
      }
    },
    {
      "cell_type": "markdown",
      "source": [
        "# Recapitulação geral e pontos principais do capítulo:"
      ],
      "metadata": {
        "id": "h3xdqpq5h99-"
      }
    },
    {
      "cell_type": "markdown",
      "source": [
        "## 13.1 Introdução\n",
        "\n",
        "*   Os sistemas de controle digitais utilizam computadores para processar os sinais de controle em formato discreto.\n",
        "*   Diferente dos sistemas analógicos, que operam continuamente, os sistemas digitais trabalham com amostras obtidas em intervalos regulares.\n",
        "*   A conversão entre sinais analógicos e digitais é feita por conversores A/D (analógico para digital) e D/A (digital para analógico).\n",
        "*   O uso de computadores em controle tem crescido devido ao aumento da confiabilidade e redução de custos dos microprocessadores."
      ],
      "metadata": {
        "id": "7SwnmemxiMuD"
      }
    },
    {
      "cell_type": "markdown",
      "source": [
        "## 13.2 Aplicações de Sistemas de Controle por Computador\n",
        "\n",
        "*   São usados em diversas áreas, como automação industrial, aeronáutica, medicina, controle de tráfego e processos químicos.\n",
        "*   A capacidade de armazenar e processar dados permite que os sistemas digitais sejam mais flexíveis e fáceis de modificar do que sistemas analógicos.\n",
        "*   Benefícios incluem:\n",
        "  1.   Maior sensibilidade na medição\n",
        "  2.   Menor suscetibilidade a ruídos\n",
        "  3.   Possibilidade de reconfiguração do controle por software"
      ],
      "metadata": {
        "id": "4xCkq89IhMSW"
      }
    },
    {
      "cell_type": "markdown",
      "source": [
        "## 13.3 Sistemas de Dados Amostrados\n",
        "\n",
        "*   Um sistema de controle digital opera com sinais discretos obtidos em intervalos de tempo chamados período de amostragem (T).\n",
        "*   Um amostrador coleta os dados do sinal contínuo e gera uma sequência de valores discretos.\n",
        "*   O conversor D/A reconstrói o sinal contínuo a partir dos valores discretos.\n",
        "*   A precisão do sistema depende da taxa de amostragem – quanto maior a taxa, melhor a aproximação do sinal original."
      ],
      "metadata": {
        "id": "g0HUVPOrhQj7"
      }
    },
    {
      "cell_type": "markdown",
      "source": [
        "## 13.4 A Transformada Z\n",
        "\n",
        "*   A transformada Z é usada para analisar sistemas de controle digital, assim como a transformada de Laplace é usada para sistemas contínuos.\n",
        "*   Permite descrever sistemas discretos e analisar sua estabilidade e resposta transitória.\n",
        "*   A relação entre o domínio Z e o domínio S é dada por: Z = e^(sT).\n",
        "*   Propriedades importantes da transformada Z:\n",
        "  1.   Conversão de equações diferenciais em equações algébricas.\n",
        "  2.   Facilidade na análise da estabilidade do sistema."
      ],
      "metadata": {
        "id": "emimyR7AhTxb"
      }
    },
    {
      "cell_type": "markdown",
      "source": [
        "## 13.5 Sistemas de Controle por Realimentação com Dados Amostrados\n",
        "\n",
        "*   São sistemas onde a saída é amostrada e usada para corrigir o sinal de controle.\n",
        "*   A função de transferência de malha fechada em domínio Z é: T(z) = G(z) / (1 + G(z)).\n",
        "*   A estabilidade do sistema depende dos polos da função de transferência, que devem estar dentro do círculo unitário do plano Z."
      ],
      "metadata": {
        "id": "0oh_BEorhXp_"
      }
    },
    {
      "cell_type": "markdown",
      "source": [
        "## 13.6 Desempenho de um Sistema de Segunda Ordem com Dados Amostrados\n",
        "\n",
        "*   Sistemas de segunda ordem podem ser analisados usando critérios como:\n",
        "  1.   Overshoot: resposta inicial que ultrapassa o valor desejado.\n",
        "  2.   Tempo de estabilização: tempo necessário para a saída se estabilizar.\n",
        "  3.   Erro em regime permanente: diferença entre a saída e o valor de referência.\n",
        "*   A escolha do período de amostragem afeta diretamente o desempenho do sistema."
      ],
      "metadata": {
        "id": "_AAoqeijhaEL"
      }
    },
    {
      "cell_type": "markdown",
      "source": [
        "## 13.7 Sistemas de Malha Fechada com Compensação Digital por Computador\n",
        "\n",
        "*   Um computador pode ser usado para compensar e melhorar a resposta de um sistema de controle digital.\n",
        "*   A compensação pode ser feita ajustando o ganho do controlador ou projetando um controlador mais sofisticado.\n",
        "*   A função de transferência de um compensador digital é: D(z) = U(z) / E(z).\n",
        "*   O objetivo da compensação é melhorar a estabilidade e reduzir erros do sistema.\n"
      ],
      "metadata": {
        "id": "L4MmDHdBhdHd"
      }
    },
    {
      "cell_type": "markdown",
      "source": [
        "## 13.8 O Lugar das Raízes em Sistemas de Controle Digital\n",
        "\n",
        "*   O método do lugar das raízes é usado para projetar e analisar controladores digitais.\n",
        "*   O local das raízes no plano Z indica a estabilidade do sistema:\n",
        "  1.   Polos dentro do círculo unitário → sistema estável.\n",
        "  2.   Polos fora do círculo unitário → sistema instável.\n",
        "*   O ajuste de ganho pode deslocar os polos para uma posição desejada."
      ],
      "metadata": {
        "id": "pp8yEUqQhgKN"
      }
    },
    {
      "cell_type": "markdown",
      "source": [
        "## 13.9 Implementação de Controladores Digitais\n",
        "\n",
        "*   Os controladores digitais podem ser implementados por meio de equações de diferenças, que representam a resposta do sistema a cada amostra.\n",
        "*   O controlador PID digital é obtido discretizando a versão contínua: Gc(z) = Kp + Ki (Tz / (z - 1)) + Kd ((z - 1) / Tz).\n",
        "*   Esse controlador pode ser programado em microcontroladores ou processadores digitais de sinal (DSPs)."
      ],
      "metadata": {
        "id": "czWmxzHfm83I"
      }
    },
    {
      "cell_type": "markdown",
      "source": [
        "## 13.10 Exemplos de Projeto\n",
        "\n",
        "*   Exemplo 1: Controle de Movimento de uma Mesa de Trabalho:\n",
        "  1.   Um motor e um parafuso sem-fim controlam a posição de uma mesa.\n",
        "  2.   O controle é feito por um compensador digital projetado para minimizar overshoot e tempo de resposta.\n",
        "*   Exemplo 2: Controle de Superfície de Aeronaves (Fly-by-Wire):\n",
        "  1.   Sistemas de controle digitais substituem sistemas mecânicos tradicionais.\n",
        "  2.   Um controlador digital é projetado para minimizar oscilações e garantir estabilidade da aeronave."
      ],
      "metadata": {
        "id": "Diwr7wULnB_f"
      }
    },
    {
      "cell_type": "markdown",
      "source": [
        "## 13.11 Sistemas de Controle Digital Usando Software de Projeto\n",
        "\n",
        "*   Softwares como MATLAB, Simulink e Python são usados para modelagem e simulação de sistemas digitais.\n",
        "*   Funções úteis incluem:\n",
        "  1.   c2d: converte um sistema contínuo para discreto.\n",
        "  2.   d2c: converte um sistema discreto para contínuo.\n",
        "  3.   tf: define funções de transferência no domínio Z.\n",
        "*   O uso de software permite otimizar o projeto de controladores digitais antes da implementação física."
      ],
      "metadata": {
        "id": "4LtEDeu2nHo3"
      }
    },
    {
      "cell_type": "markdown",
      "source": [
        "## 13.12 Exemplo de Projeto Sequencial: Sistema de Leitura de Disco\n",
        "\n",
        "*   Um controlador digital é projetado para regular a posição do cabeçote de leitura de um disco rígido.\n",
        "*   O objetivo é minimizar erros e reduzir o tempo de resposta.\n",
        "*   A estratégia inclui:\n",
        "  1.   Modelagem do sistema.\n",
        "  2.   Projeto de um controlador compensador.\n",
        "  3.   Simulação e ajustes no domínio Z."
      ],
      "metadata": {
        "id": "APHiCtF07eUH"
      }
    },
    {
      "cell_type": "markdown",
      "source": [
        "## 13.13 Resumo do Capítulo\n",
        "\n",
        "*   Sistemas de controle digitais são amplamente utilizados devido à sua flexibilidade e capacidade de processamento.\n",
        "*   A transformada Z é uma ferramenta essencial para a análise e projeto de sistemas discretos.\n",
        "*   A realimentação e compensação digital são fundamentais para melhorar o desempenho de sistemas de controle digital.\n",
        "*   Ferramentas computacionais são indispensáveis para modelagem, simulação e implementação de controladores digitais."
      ],
      "metadata": {
        "id": "-Cm9BnjB7fPZ"
      }
    }
  ]
}